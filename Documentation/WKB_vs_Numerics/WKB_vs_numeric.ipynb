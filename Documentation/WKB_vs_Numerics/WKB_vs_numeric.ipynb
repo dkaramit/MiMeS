{
 "cells": [
  {
   "cell_type": "code",
   "execution_count": null,
   "metadata": {},
   "outputs": [],
   "source": [
    "import numpy as np#you usually need numpy\n",
    "\n",
    "#---these are for plots---#\n",
    "import matplotlib\n",
    "matplotlib.use('nbAgg')\n",
    "import matplotlib.pyplot as plt\n",
    "\n",
    "plt.rcParams['font.family']='serif'\n",
    "plt.rcParams['font.size']=14\n",
    "plt.rcParams['mathtext.fontset']='stix'\n",
    "#-------------------------#"
   ]
  },
  {
   "cell_type": "code",
   "execution_count": null,
   "metadata": {},
   "outputs": [],
   "source": [
    "#load the module\n",
    "\n",
    "from os import  getcwd, chdir\n",
    "\n",
    "curDir=getcwd()#this is the directory of the notebook\n",
    "chdir('../../src')#go to the direcory that interfacePy is located\n",
    "from interfacePy.Axion import Axion \n",
    "from interfacePy.WKB import relic \n",
    "from interfacePy.Cosmo import Hubble,s\n",
    "from interfacePy.AxionMass import ma2\n",
    "\n",
    "chdir(curDir)#return to the directory of the notebook"
   ]
  },
  {
   "cell_type": "code",
   "execution_count": null,
   "metadata": {},
   "outputs": [],
   "source": [
    "#load theta_i, fa, Tosc, theta_osc, relic\n",
    "\n",
    "#for RD universe\n",
    "RDdat=np.loadtxt('RD.dat')\n",
    "#for NSC\n",
    "NSCdat=np.loadtxt('NSC.dat')"
   ]
  },
  {
   "cell_type": "code",
   "execution_count": null,
   "metadata": {},
   "outputs": [],
   "source": [
    "def NSC(fa):\n",
    "    '''find the approximate entropy injection factor between Tosc and today in NSC and Tosc'''\n",
    "    inputFile=\"../../Examples/InputExamples/NSCinput.dat\" \n",
    "    _=np.loadtxt(inputFile)\n",
    "    for u,T,logH in _[_[:,1]<20]:\n",
    "        if ma2(T,fa)**0.5>=3*np.exp(logH):\n",
    "            break\n",
    "    uosc,Tosc=u,T\n",
    "    \n",
    "    return s(_[-1][1])/s(Tosc)*np.exp(3*(_[-1][0]-uosc)),Tosc"
   ]
  },
  {
   "cell_type": "code",
   "execution_count": null,
   "metadata": {},
   "outputs": [],
   "source": []
  },
  {
   "cell_type": "code",
   "execution_count": null,
   "metadata": {},
   "outputs": [],
   "source": [
    "diff_i=[]\n",
    "diff_osc=[]\n",
    "\n",
    "for theta_i,fa,theta_osc,T_osc,Omegah2 in NSCdat[:10]:\n",
    "    gamma,Tosc=NSC(fa)\n",
    "    diff_i.append(np.abs(Omegah2-relic(T_osc,theta_i,gamma))/Omegah2)\n",
    "    diff_osc.append(np.abs(Omegah2-relic(T_osc,theta_osc,gamma))/Omegah2)\n",
    "\n",
    "    \n",
    "diff_i=np.array(diff_i)\n",
    "diff_osc=np.array(diff_osc)"
   ]
  },
  {
   "cell_type": "code",
   "execution_count": null,
   "metadata": {},
   "outputs": [],
   "source": [
    "fig=plt.figure(figsize=(9,4))\n",
    "fig.subplots_adjust(bottom=0.15, left=0.15, top = 0.95, right=0.9,wspace=0.0,hspace=0.0)\n",
    "fig.suptitle('')\n",
    "\n",
    "sub = fig.add_subplot(1,1,1)\n",
    "\n",
    "sub.plot(NSCdat[:,1],diff_i,linestyle='--',c='xkcd:black',label=r\"$\\theta_i = \\theta_{\\rm osc}$\")\n",
    "sub.plot(NSCdat[:,1],diff_osc,linestyle='--',c='xkcd:red',label=r\"Numeric $\\theta_{\\rm osc}$\")\n",
    "\n",
    "sub.set_xlabel(r'$f_a ~ [{\\rm GeV}]$')\n",
    "sub.set_ylabel(r'$\\dfrac{\\left|\\Omega h^2 - \\left(\\Omega h^2\\right)_{\\rm WKB}\\right|}{\\Omega h^2}$')\n",
    "\n",
    "sub.legend(bbox_to_anchor=(0.01, 0.9),borderaxespad=0., \n",
    "           borderpad=0.05,ncol=1,loc='upper left',fontsize=14,framealpha=0)\n",
    "sub.set_yscale('log')\n",
    "sub.set_xscale('log')\n",
    "\n",
    "plt.savefig('NSC_WKB_diff.pdf',bbox_inches='tight')\n",
    "\n",
    "fig.show()"
   ]
  },
  {
   "cell_type": "code",
   "execution_count": null,
   "metadata": {},
   "outputs": [],
   "source": [
    "diff_i=[]\n",
    "diff_osc=[]\n",
    "\n",
    "for theta_i,fa,theta_osc,T_osc,Omegah2 in RDdat:\n",
    "    diff_i.append(np.abs(Omegah2-relic(T_osc,theta_i))/Omegah2)\n",
    "    diff_osc.append(np.abs(Omegah2-relic(T_osc,theta_osc))/Omegah2)\n",
    "\n",
    "    \n",
    "diff_i=np.array(diff_i)\n",
    "diff_osc=np.array(diff_osc)"
   ]
  },
  {
   "cell_type": "code",
   "execution_count": null,
   "metadata": {},
   "outputs": [],
   "source": [
    "fig=plt.figure(figsize=(9,4))\n",
    "fig.subplots_adjust(bottom=0.15, left=0.15, top = 0.95, right=0.9,wspace=0.0,hspace=0.0)\n",
    "fig.suptitle('')\n",
    "\n",
    "sub = fig.add_subplot(1,1,1)\n",
    "\n",
    "sub.plot(NSCdat[:,1],diff_i,linestyle='--',c='xkcd:black',label=r\"$\\theta_i = \\theta_{\\rm osc}$\")\n",
    "sub.plot(NSCdat[:,1],diff_osc,linestyle='--',c='xkcd:red',label=r\"Numeric $\\theta_{\\rm osc}$\")\n",
    "\n",
    "sub.set_xlabel(r'$f_a ~ [{\\rm GeV}]$')\n",
    "sub.set_ylabel(r'$\\dfrac{\\left|\\Omega h^2 - \\left(\\Omega h^2\\right)_{\\rm WKB}\\right|}{\\Omega h^2}$')\n",
    "\n",
    "sub.legend(bbox_to_anchor=(0.01, 0.01),borderaxespad=0., \n",
    "           borderpad=0.05,ncol=1,loc='lower left',fontsize=14,framealpha=0)\n",
    "sub.set_yscale('log')\n",
    "sub.set_xscale('log')\n",
    "\n",
    "\n",
    "plt.savefig('RD_WKB_diff.pdf',bbox_inches='tight')\n",
    "fig.show()"
   ]
  },
  {
   "cell_type": "code",
   "execution_count": null,
   "metadata": {},
   "outputs": [],
   "source": []
  }
 ],
 "metadata": {
  "kernelspec": {
   "display_name": "Python 3",
   "language": "python",
   "name": "python3"
  },
  "language_info": {
   "codemirror_mode": {
    "name": "ipython",
    "version": 3
   },
   "file_extension": ".py",
   "mimetype": "text/x-python",
   "name": "python",
   "nbconvert_exporter": "python",
   "pygments_lexer": "ipython3",
   "version": "3.9.1"
  }
 },
 "nbformat": 4,
 "nbformat_minor": 2
}
