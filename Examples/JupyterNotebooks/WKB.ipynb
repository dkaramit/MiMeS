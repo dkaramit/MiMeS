{
 "cells": [
  {
   "cell_type": "code",
   "execution_count": 1,
   "metadata": {},
   "outputs": [],
   "source": [
    "import numpy as np#you usually need numpy\n",
    "\n",
    "#---these are for plots---#\n",
    "import matplotlib\n",
    "matplotlib.use('nbAgg')\n",
    "import matplotlib.pyplot as plt\n",
    "\n",
    "plt.rcParams['font.size']=16\n",
    "plt.rcParams['font.family']='dejavu sans'\n",
    "\n",
    "plt.rcParams['mathtext.fontset']='stix'\n",
    "plt.rcParams['mathtext.rm']='custom'\n",
    "plt.rcParams['mathtext.it']='stix:italic'\n",
    "plt.rcParams['mathtext.bf']='stix:bold'\n",
    "#-------------------------#"
   ]
  },
  {
   "cell_type": "code",
   "execution_count": 2,
   "metadata": {
    "scrolled": true
   },
   "outputs": [],
   "source": [
    "#load the module\n",
    "from sys import path as sysPath\n",
    "from os import path as osPath\n",
    "sysPath.append(osPath.join(osPath.dirname('./'), '../../src'))\n",
    "\n",
    "from interfacePy.WKB import WKB\n",
    "from interfacePy.Axion import Axion \n",
    "from interfacePy.AxionMass import ma2 \n",
    "from interfacePy.Cosmo import s \n",
    "\n",
    "from interfacePy.FT import FT #easy tick formatting\n"
   ]
  },
  {
   "cell_type": "markdown",
   "metadata": {},
   "source": [
    "One can use the WKB approximation, in order to estimate the relic abundance using ```WKB.relic```, which takes as\n",
    "$T_{\\rm osc}$, $\\theta_{\\rm osc}$, and $\\gamma$ (the entropy injection from $T_{\\rm osc}$ until today).\n",
    "\n",
    "For $\\theta_{\\rm osc}$ one usually uses $\\theta_{\\rm ini}$, or can use ```WKB.theta_osc``` for a firs order approximation. This function takes \n",
    "\n",
    "$T_{\\rm ini}$, $3H/m_a$ at $T=T_{\\rm ini}$, $T_{\\rm osc}$, $\\theta_{\\rm ini}$, $\\gamma_{\\rm osc}$ (the entropy injection between $T_{\\rm ini}$ and $T_{\\rm osc}$).\n"
   ]
  },
  {
   "cell_type": "code",
   "execution_count": 3,
   "metadata": {},
   "outputs": [],
   "source": [
    "theta_ini=1e-2"
   ]
  },
  {
   "cell_type": "code",
   "execution_count": 4,
   "metadata": {},
   "outputs": [],
   "source": [
    "fa=1e15\n",
    "theta_ini=1e-3\n",
    "\n",
    "# CosmoFile='../InputExamples/RDinput.dat'\n",
    "CosmoFile='../InputExamples/MatterInput.dat'\n",
    "# CosmoFile='../InputExamples/KinationInput.dat'\n",
    "\n",
    "gamma_osc, gamma, Tosc, Tini,ratio_ini=WKB.getPoints(5,1.5,fa,CosmoFile)"
   ]
  },
  {
   "cell_type": "code",
   "execution_count": 5,
   "metadata": {},
   "outputs": [
    {
     "name": "stdout",
     "output_type": "stream",
     "text": [
      "1.2039003764310475e-07\n"
     ]
    }
   ],
   "source": [
    "#numerical result\n",
    "ax =Axion(theta_ini,fa,500,1e-4,1e3,3,1e-2,CosmoFile)\n",
    "ax.solve()\n",
    "print(ax.relic)\n",
    "MiMeS_theta_osc=ax.theta_osc\n",
    "del ax"
   ]
  },
  {
   "cell_type": "code",
   "execution_count": 6,
   "metadata": {},
   "outputs": [
    {
     "data": {
      "text/plain": [
       "4.3331921735887826e-07"
      ]
     },
     "execution_count": 6,
     "metadata": {},
     "output_type": "execute_result"
    }
   ],
   "source": [
    "#just WKB\n",
    "WKB.relic(Tosc,theta_ini,gamma)\n"
   ]
  },
  {
   "cell_type": "code",
   "execution_count": 7,
   "metadata": {},
   "outputs": [
    {
     "data": {
      "text/plain": [
       "1.610010418727554e-07"
      ]
     },
     "execution_count": 7,
     "metadata": {},
     "output_type": "execute_result"
    }
   ],
   "source": [
    "#WKB with approximate theta_osc\n",
    "theta_osc=WKB.theta_osc(Tini, ratio_ini, Tosc, theta_ini, gamma_osc)\n",
    "WKB.relic(Tosc,theta_osc,gamma)"
   ]
  },
  {
   "cell_type": "code",
   "execution_count": 8,
   "metadata": {},
   "outputs": [
    {
     "data": {
      "text/plain": [
       "9.744649447274049e-08"
      ]
     },
     "execution_count": 8,
     "metadata": {},
     "output_type": "execute_result"
    }
   ],
   "source": [
    "#WKB with numerical result for theta_osc\n",
    "WKB.relic(Tosc,MiMeS_theta_osc,gamma)"
   ]
  },
  {
   "cell_type": "code",
   "execution_count": null,
   "metadata": {},
   "outputs": [],
   "source": []
  }
 ],
 "metadata": {
  "kernelspec": {
   "display_name": "Python 3",
   "language": "python",
   "name": "python3"
  },
  "language_info": {
   "codemirror_mode": {
    "name": "ipython",
    "version": 3
   },
   "file_extension": ".py",
   "mimetype": "text/x-python",
   "name": "python",
   "nbconvert_exporter": "python",
   "pygments_lexer": "ipython3",
   "version": "3.9.1"
  }
 },
 "nbformat": 4,
 "nbformat_minor": 2
}
