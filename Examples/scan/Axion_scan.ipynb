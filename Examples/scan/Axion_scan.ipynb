{
 "cells": [
  {
   "cell_type": "markdown",
   "metadata": {},
   "source": [
    "Scan for axion in radiation dominated Uinverse.\n",
    "\n",
    "The scan proceeds as follows:\n",
    "\n",
    "The for each value of $f_a$, we find $\\theta_i^{\\rm approx}$ such that $\\Omega h^2 = 0.12$ assuming that $sin(\\theta_i^{\\rm approx}) \\approx \\theta_i^{\\rm approx}$. Then, we scan values of $\\theta_i$ close to $\\theta_i^{\\rm approx}$. This results in a range of values of $\\theta_i$ for each $f_a$, with $\\Omega h^2$ close to the observed value."
   ]
  },
  {
   "cell_type": "code",
   "execution_count": null,
   "metadata": {},
   "outputs": [],
   "source": [
    "import os\n",
    "curDir=os.getcwd()#this is the directory of the notebook\n",
    "os.chdir('../../')\n",
    "\n",
    "from interfacePy.Axion import Axion \n",
    "from interfacePy.Cosmo import h_hub,T0,rho_crit,relicDM_obs,s \n",
    "from interfacePy.AxionMass import ma2 \n",
    "\n",
    "os.chdir(curDir)"
   ]
  },
  {
   "cell_type": "code",
   "execution_count": null,
   "metadata": {},
   "outputs": [],
   "source": []
  },
  {
   "cell_type": "code",
   "execution_count": null,
   "metadata": {},
   "outputs": [],
   "source": [
    "import numpy as np\n",
    "\n",
    "import matplotlib\n",
    "#matplotlib.use('WebAgg')\n",
    "#matplotlib.use('Qt4Cairo')\n",
    "#matplotlib.use('Qt5Cairo')\n",
    "matplotlib.use('nbAgg')\n",
    "import matplotlib.pyplot as plt\n",
    "\n",
    "import subprocess\n",
    "import sys\n",
    "import time\n",
    "from pathlib import Path\n",
    "import datetime\n",
    "from IPython.display import clear_output\n",
    "\n",
    "\n",
    "plt.rcParams['font.family']='serif'\n",
    "plt.rcParams['font.size']=14\n",
    "plt.rcParams['mathtext.fontset']='stix'"
   ]
  },
  {
   "cell_type": "code",
   "execution_count": null,
   "metadata": {},
   "outputs": [],
   "source": []
  },
  {
   "cell_type": "code",
   "execution_count": null,
   "metadata": {},
   "outputs": [],
   "source": [
    "class scan:\n",
    "    def __init__(self,cpus,table_fa,len_theta=100):\n",
    "        self.cpus=cpus\n",
    "        self.Table_fa=table_fa\n",
    "        self.len_theta=len_theta\n",
    "        \n",
    "        self.in_file=\"in.dat\"\n",
    "        #self.points=np.array([])\n",
    "        self.FileDate=datetime.datetime.now()\n",
    "        self.FileName = \"{}\".format(self.FileDate.strftime('%d-%m-%Y_%H-%M-%S')) \n",
    "        self._p = Path(self.FileName+'.dat')\n",
    "\n",
    "        self.inputFile=\"../InputExamples/RDinput.dat\"\n",
    "#         self.inputFile=\"../InputExamples/NSCinput.dat\"\n",
    "    def run_batch(self):\n",
    "        '''\n",
    "        run a batch.\n",
    "        '''\n",
    "        \n",
    "        # get the result     \n",
    "        points=subprocess.check_output( [r\"./parallel_scan\",  r\"../Cpp/AxionExample/AxionExample.run\", str(self.cpus),self.in_file]).decode(sys.stdout.encoding)\n",
    "        points=points.split('\\n')\n",
    "        \n",
    "#         points=np.array([np.array(i.split(),np.float64)  for i in points[:-1] ])\n",
    "#         points=np.array(sorted(points, key=lambda arr: arr[0]))\n",
    "\n",
    "#         File= self._p.open('ab') \n",
    "#         np.savetxt(File,points)\n",
    "\n",
    "        points=np.array([np.array(i.split(),np.float64)  for i in points[:-1] ])\n",
    "        points=np.array(sorted(points, key=lambda arr: arr[0]))\n",
    "        absDiff=np.argmin(np.abs(points[:,4]-relicDM_obs))\n",
    "        \n",
    "        File= self._p.open('ab')            \n",
    "        np.savetxt(File,np.array([points[absDiff]]))\n",
    "\n",
    "        File.close()\n",
    "\n",
    "    def run(self):\n",
    "        tmax=500\n",
    "        TSTOP=1e-4\n",
    "        ratio_ini=1e3\n",
    "\n",
    "\n",
    "        Npeaks=5\n",
    "        conv=1e-2\n",
    "\n",
    "        totalT=0\n",
    "        meanT=0\n",
    "        ETA=0\n",
    "        Total_batches=len(self.Table_fa)\n",
    "        batch=0\n",
    "        for fa in self.Table_fa:\n",
    "            time0=time.time()\n",
    "\n",
    "            ########################---find theta_i (assuming theta_i<<1) such that Omega h^=0.12---########################\n",
    "\n",
    "            theta_small=1e-5\n",
    "            ax=Axion(theta_small,fa,tmax,TSTOP,ratio_ini,Npeaks,conv,self.inputFile)\n",
    "\n",
    "            ax.solve()\n",
    "            ax.getPeaks()\n",
    "            \n",
    "            T=ax.T_peak[-1]\n",
    "            theta=ax.theta_peak[-1]\n",
    "\n",
    "            relic=ax.relic\n",
    "            theta_obs=np.sqrt(theta**2/relic*relicDM_obs)\n",
    "\n",
    "            relic=s(T0)/s(T)*0.5*np.sqrt(ma2(0,1)*ma2(T,1))*theta_obs**2*h_hub**2/rho_crit\n",
    "\n",
    "            theta_small_i=theta_small*theta_obs/theta\n",
    "            if theta_small_i>np.pi:\n",
    "                theta_small_i=np.pi\n",
    "\n",
    "            Table_theta_i=np.linspace(min([theta_small_i*0.85,1]),min([theta_small_i*1.2,3.14]),self.len_theta)\n",
    "\n",
    "            del ax\n",
    "            ########################---END---########################\n",
    "\n",
    "            file=open(self.in_file , 'w')\n",
    "            for theta_i in Table_theta_i :\n",
    "                file.write( '{0} {1} {2} {3} {4} {5} {6} {7} \\n'.format(theta_i, fa, tmax, TSTOP, ratio_ini, Npeaks, conv, self.inputFile) )\n",
    "            file.close()\n",
    "            \n",
    "            self.run_batch()\n",
    "            \n",
    "            batch+=1\n",
    "            totalT+=time.time()-time0\n",
    "            meanT=totalT/batch\n",
    "\n",
    "            ETA=meanT*(Total_batches-batch)\n",
    "            print('======================================== \\n',\n",
    "            'Completed batches:  ',batch,' out of ', Total_batches ,'\\n',\n",
    "            'Running for:     {0:.50s}'.format( str(datetime.timedelta(seconds=totalT))  ), '\\n', \n",
    "            'ETA:             {0:.50s}'.format(str(datetime.timedelta(seconds=ETA) )  ),'\\n', \n",
    "            'Time per batch:  {0:.3f} sec'.format(meanT),\n",
    "            '\\n========================================' )\n",
    "            clear_output(wait=True)\n",
    "\n",
    "        os.remove('in.dat')\n",
    "        print('Done!')\n",
    "        \n",
    "    def readData(self):\n",
    "        self.points=np.loadtxt(self.FileName+'.dat')\n"
   ]
  },
  {
   "cell_type": "code",
   "execution_count": null,
   "metadata": {},
   "outputs": [],
   "source": [
    "Scan=scan(8,np.logspace(10,20,50),50)"
   ]
  },
  {
   "cell_type": "code",
   "execution_count": null,
   "metadata": {},
   "outputs": [],
   "source": [
    "Scan.run()"
   ]
  },
  {
   "cell_type": "code",
   "execution_count": null,
   "metadata": {},
   "outputs": [],
   "source": [
    "Scan.readData()"
   ]
  },
  {
   "cell_type": "code",
   "execution_count": null,
   "metadata": {},
   "outputs": [],
   "source": [
    "len(Scan.points)"
   ]
  },
  {
   "cell_type": "code",
   "execution_count": null,
   "metadata": {},
   "outputs": [],
   "source": [
    "ch=Scan.points[:,4]<relicDM_obs+0.01\n",
    "ch=np.logical_and(ch,Scan.points[:,4]>relicDM_obs-0.01)"
   ]
  },
  {
   "cell_type": "code",
   "execution_count": null,
   "metadata": {},
   "outputs": [],
   "source": [
    "fig=plt.figure(figsize=(8,3))\n",
    "fig.subplots_adjust(bottom=0.15, left=0.15, top = 0.85, right=0.9,wspace=0.0,hspace=0.0)\n",
    "fig.suptitle('')\n",
    "\n",
    "sub = fig.add_subplot(1,1,1)\n",
    "\n",
    "sub.scatter(Scan.points[ch][:,1], Scan.points[ch][:,0], alpha=1, c='xkcd:black', s=20, marker='+',label=r'$\\theta_{\\rm ini}$')\n",
    "\n",
    "\n",
    "sub.legend(bbox_to_anchor=(0.98, 0.95),borderaxespad=0., \n",
    "           borderpad=0,ncol=1,loc='upper right',fontsize=15,framealpha=0)\n",
    "\n",
    "\n",
    "sub.set_xlabel(r'$f_{\\alpha}~[{\\rm GeV}]$')\n",
    "sub.xaxis.set_label_coords(0.5, -0.1)\n",
    "sub.set_ylabel(r'$\\theta$')\n",
    "sub.yaxis.set_label_coords(-0.1,0.5)\n",
    " \n",
    "sub.set_xscale('log')\n",
    "sub.set_yscale('log')\n",
    "\n",
    "\n",
    "\n",
    "# fig.savefig('fa_vs_theta_i.pdf',bbox_inches='tight')\n",
    "fig.show()"
   ]
  },
  {
   "cell_type": "code",
   "execution_count": null,
   "metadata": {},
   "outputs": [],
   "source": []
  },
  {
   "cell_type": "code",
   "execution_count": null,
   "metadata": {},
   "outputs": [],
   "source": []
  }
 ],
 "metadata": {
  "kernelspec": {
   "display_name": "Python 3",
   "language": "python",
   "name": "python3"
  },
  "language_info": {
   "codemirror_mode": {
    "name": "ipython",
    "version": 3
   },
   "file_extension": ".py",
   "mimetype": "text/x-python",
   "name": "python",
   "nbconvert_exporter": "python",
   "pygments_lexer": "ipython3",
   "version": "3.8.3"
  }
 },
 "nbformat": 4,
 "nbformat_minor": 2
}
