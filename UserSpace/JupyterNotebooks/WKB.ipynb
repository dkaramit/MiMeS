{
 "cells": [
  {
   "cell_type": "code",
   "execution_count": 1,
   "metadata": {},
   "outputs": [],
   "source": [
    "import numpy as np#you usually need numpy\n",
    "\n",
    "#---these are for plots---#\n",
    "import matplotlib\n",
    "matplotlib.use('nbAgg')\n",
    "import matplotlib.pyplot as plt\n",
    "\n",
    "plt.rcParams['font.size']=16\n",
    "plt.rcParams['font.family']='dejavu sans'\n",
    "\n",
    "plt.rcParams['mathtext.fontset']='stix'\n",
    "plt.rcParams['mathtext.rm']='custom'\n",
    "plt.rcParams['mathtext.it']='stix:italic'\n",
    "plt.rcParams['mathtext.bf']='stix:bold'\n",
    "#-------------------------#"
   ]
  },
  {
   "cell_type": "code",
   "execution_count": 2,
   "metadata": {
    "scrolled": true
   },
   "outputs": [],
   "source": [
    "#load the module\n",
    "from sys import path as sysPath\n",
    "sysPath.append('../../src')\n",
    "\n",
    "from interfacePy.WKB import WKB\n",
    "from interfacePy.Axion import Axion \n",
    "from interfacePy.AxionMass import AxionMass \n",
    "from interfacePy.Cosmo import Cosmo\n",
    "\n",
    "from interfacePy.FT import FT #easy tick formatting\n"
   ]
  },
  {
   "cell_type": "code",
   "execution_count": 3,
   "metadata": {},
   "outputs": [],
   "source": [
    "cosmo=Cosmo(r'../../src/data/eos2020.dat',0,1e5)"
   ]
  },
  {
   "cell_type": "code",
   "execution_count": 4,
   "metadata": {},
   "outputs": [],
   "source": [
    "theta_ini, fa=0.94435, 1e12\n",
    "\n",
    "CosmoFile='../InputExamples/RDinput.dat'\n",
    "# CosmoFile='../InputExamples/MatterInput.dat'\n",
    "# CosmoFile='../InputExamples/KinationInput.dat'\n",
    "\n",
    "\n",
    "axionMass = AxionMass(r'../../src/data/chi.dat',0,1e5)\n",
    "#------------------------------------------------------------------------------#\n",
    "# this is the axion mass squared beyond the interpolation limits for the current data \n",
    "# if yo don't specify it, the axion mass is taken to be constant beyond these limits\n",
    "TMax=axionMass.getTMax() \n",
    "chiMax=axionMass.getChiMax()\n",
    "TMin=axionMass.getTMin() \n",
    "chiMin=axionMass.getChiMin()\n",
    "\n",
    "axionMass.set_ma2_MAX( lambda T,fa: chiMax/fa/fa*pow(T/TMax,-8.16) )\n",
    "axionMass.set_ma2_MIN( lambda T,fa: chiMin/fa/fa )\n",
    "#------------------------------------------------------------------------------#\n",
    "\n"
   ]
  },
  {
   "cell_type": "code",
   "execution_count": 5,
   "metadata": {},
   "outputs": [],
   "source": [
    "gamma_osc, gamma, Tosc, Tini, ratio_ini = WKB.getPoints(10,5,fa,axionMass.ma2,CosmoFile,cosmo)"
   ]
  },
  {
   "cell_type": "code",
   "execution_count": 6,
   "metadata": {},
   "outputs": [
    {
     "data": {
      "text/plain": [
       "0.07152932609370595"
      ]
     },
     "execution_count": 6,
     "metadata": {},
     "output_type": "execute_result"
    }
   ],
   "source": [
    "#WKB\n",
    "WKB.relic(Tosc,theta_ini,axionMass.ma2,cosmo,gamma)"
   ]
  },
  {
   "cell_type": "code",
   "execution_count": null,
   "metadata": {},
   "outputs": [],
   "source": []
  }
 ],
 "metadata": {
  "kernelspec": {
   "display_name": "Python 3",
   "language": "python",
   "name": "python3"
  },
  "language_info": {
   "codemirror_mode": {
    "name": "ipython",
    "version": 3
   },
   "file_extension": ".py",
   "mimetype": "text/x-python",
   "name": "python",
   "nbconvert_exporter": "python",
   "pygments_lexer": "ipython3",
   "version": "3.9.5"
  }
 },
 "nbformat": 4,
 "nbformat_minor": 2
}
