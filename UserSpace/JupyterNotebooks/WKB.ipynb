{
 "cells": [
  {
   "cell_type": "code",
   "execution_count": 1,
   "metadata": {},
   "outputs": [],
   "source": [
    "import numpy as np#you usually need numpy\n",
    "\n",
    "#---these are for plots---#\n",
    "import matplotlib\n",
    "matplotlib.use('nbAgg')\n",
    "import matplotlib.pyplot as plt\n",
    "\n",
    "plt.rcParams['font.size']=16\n",
    "plt.rcParams['font.family']='dejavu sans'\n",
    "\n",
    "plt.rcParams['mathtext.fontset']='stix'\n",
    "plt.rcParams['mathtext.rm']='custom'\n",
    "plt.rcParams['mathtext.it']='stix:italic'\n",
    "plt.rcParams['mathtext.bf']='stix:bold'\n",
    "#-------------------------#"
   ]
  },
  {
   "cell_type": "code",
   "execution_count": 2,
   "metadata": {
    "scrolled": true
   },
   "outputs": [],
   "source": [
    "#load the module\n",
    "from sys import path as sysPath\n",
    "from os import path as osPath\n",
    "sysPath.append(osPath.join(osPath.dirname('./'), '../../src'))\n",
    "\n",
    "from interfacePy.WKB import WKB\n",
    "from interfacePy.Axion import Axion \n",
    "from interfacePy.AxionMass import AxionMass \n",
    "from interfacePy.Cosmo import s \n",
    "\n",
    "from interfacePy.FT import FT #easy tick formatting\n"
   ]
  },
  {
   "cell_type": "markdown",
   "metadata": {},
   "source": [
    "One can use the WKB approximation, in order to estimate the relic abundance using ```WKB.relic```, which takes as\n",
    "$T_{\\rm osc}$, $\\theta_{\\rm osc}$, and $\\gamma$ (the entropy injection from $T_{\\rm osc}$ until today).\n",
    "\n",
    "For $\\theta_{\\rm osc}$ one usually uses $\\theta_{\\rm ini}$, or can use ```WKB.theta_osc``` for a firs order approximation. This function takes \n",
    "\n",
    "$T_{\\rm ini}$, $3H/m_a$ at $T=T_{\\rm ini}$, $T_{\\rm osc}$, $\\theta_{\\rm ini}$, $\\gamma_{\\rm osc}$ (the entropy injection between $T_{\\rm ini}$ and $T_{\\rm osc}$).\n"
   ]
  },
  {
   "cell_type": "code",
   "execution_count": 3,
   "metadata": {},
   "outputs": [],
   "source": [
    "theta_ini, fa=0.94435, 1e12\n",
    "\n",
    "CosmoFile='../InputExamples/RDinput.dat'\n",
    "# CosmoFile='../InputExamples/MatterInput.dat'\n",
    "# CosmoFile='../InputExamples/KinationInput.dat'\n",
    "\n",
    "\n",
    "axionMass = AxionMass(r'../../src/data/chi.dat',0,1e5)\n",
    "#------------------------------------------------------------------------------#\n",
    "# this is the axion mass squared beyond the interpolation limits for the current data \n",
    "# if yo don't specify it, the axion mass is taken to be constant beyond these limits\n",
    "TMax=axionMass.getTMax() \n",
    "chiMax=axionMass.getChiMax()\n",
    "TMin=axionMass.getTMin() \n",
    "chiMin=axionMass.getChiMin()\n",
    "\n",
    "axionMass.set_ma2_MAX( lambda T,fa: chiMax/fa/fa*pow(T/TMax,-8.16) )\n",
    "axionMass.set_ma2_MIN( lambda T,fa: chiMin/fa/fa )\n",
    "#------------------------------------------------------------------------------#\n",
    "\n",
    "\n",
    "gamma_osc, gamma, Tosc, Tini,ratio_ini=WKB.getPoints(5,1.5,fa,axionMass.ma2,CosmoFile)"
   ]
  },
  {
   "cell_type": "code",
   "execution_count": 4,
   "metadata": {},
   "outputs": [
    {
     "name": "stdout",
     "output_type": "stream",
     "text": [
      "0.11935022004089332\n"
     ]
    }
   ],
   "source": [
    "#numerical result\n",
    "ax =Axion(theta_ini,fa,500,1e-4,1e3,5,1e-2,CosmoFile,axionMass)\n",
    "ax.solveAxion()\n",
    "print(ax.relic)\n",
    "MiMeS_theta_osc=ax.theta_osc\n",
    "del ax"
   ]
  },
  {
   "cell_type": "code",
   "execution_count": 5,
   "metadata": {},
   "outputs": [
    {
     "data": {
      "text/plain": [
       "0.07152932609370595"
      ]
     },
     "execution_count": 5,
     "metadata": {},
     "output_type": "execute_result"
    }
   ],
   "source": [
    "#just WKB\n",
    "WKB.relic(Tosc,theta_ini,axionMass.ma2,gamma)"
   ]
  },
  {
   "cell_type": "code",
   "execution_count": 6,
   "metadata": {},
   "outputs": [
    {
     "data": {
      "text/plain": [
       "0.06841468669903171"
      ]
     },
     "execution_count": 6,
     "metadata": {},
     "output_type": "execute_result"
    }
   ],
   "source": [
    "#WKB with approximate theta_osc\n",
    "theta_osc=WKB.theta_osc(Tini, ratio_ini, Tosc, theta_ini, gamma_osc)\n",
    "WKB.relic(Tosc,theta_osc,axionMass.ma2,gamma)"
   ]
  },
  {
   "cell_type": "code",
   "execution_count": 7,
   "metadata": {},
   "outputs": [
    {
     "data": {
      "text/plain": [
       "0.0646097119884361"
      ]
     },
     "execution_count": 7,
     "metadata": {},
     "output_type": "execute_result"
    }
   ],
   "source": [
    "#WKB with numerical result for theta_osc\n",
    "WKB.relic(Tosc,MiMeS_theta_osc,axionMass.ma2,gamma)"
   ]
  },
  {
   "cell_type": "code",
   "execution_count": null,
   "metadata": {},
   "outputs": [],
   "source": []
  }
 ],
 "metadata": {
  "kernelspec": {
   "display_name": "Python 3 (ipykernel)",
   "language": "python",
   "name": "python3"
  },
  "language_info": {
   "codemirror_mode": {
    "name": "ipython",
    "version": 3
   },
   "file_extension": ".py",
   "mimetype": "text/x-python",
   "name": "python",
   "nbconvert_exporter": "python",
   "pygments_lexer": "ipython3",
   "version": "3.8.8"
  }
 },
 "nbformat": 4,
 "nbformat_minor": 2
}
